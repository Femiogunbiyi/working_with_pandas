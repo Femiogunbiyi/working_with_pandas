{
 "cells": [
  {
   "cell_type": "code",
   "execution_count": 1,
   "id": "a7eb012b",
   "metadata": {},
   "outputs": [],
   "source": [
    "import pandas as pd"
   ]
  },
  {
   "cell_type": "code",
   "execution_count": 3,
   "id": "7295d2de",
   "metadata": {},
   "outputs": [],
   "source": [
    "df = pd.read_csv('orders.csv')"
   ]
  },
  {
   "cell_type": "code",
   "execution_count": 5,
   "id": "15ea7bfa",
   "metadata": {},
   "outputs": [
    {
     "data": {
      "text/html": [
       "<div>\n",
       "<style scoped>\n",
       "    .dataframe tbody tr th:only-of-type {\n",
       "        vertical-align: middle;\n",
       "    }\n",
       "\n",
       "    .dataframe tbody tr th {\n",
       "        vertical-align: top;\n",
       "    }\n",
       "\n",
       "    .dataframe thead th {\n",
       "        text-align: right;\n",
       "    }\n",
       "</style>\n",
       "<table border=\"1\" class=\"dataframe\">\n",
       "  <thead>\n",
       "    <tr style=\"text-align: right;\">\n",
       "      <th></th>\n",
       "      <th>OrderID</th>\n",
       "      <th>CustomerName</th>\n",
       "      <th>Product</th>\n",
       "      <th>Category</th>\n",
       "      <th>Quantity</th>\n",
       "      <th>Price</th>\n",
       "      <th>OrderDate</th>\n",
       "      <th>Shipped</th>\n",
       "      <th>Country</th>\n",
       "    </tr>\n",
       "  </thead>\n",
       "  <tbody>\n",
       "    <tr>\n",
       "      <th>0</th>\n",
       "      <td>1001</td>\n",
       "      <td>John Smith</td>\n",
       "      <td>Laptop</td>\n",
       "      <td>Electronics</td>\n",
       "      <td>1</td>\n",
       "      <td>1200.0</td>\n",
       "      <td>2024-06-01</td>\n",
       "      <td>Yes</td>\n",
       "      <td>USA</td>\n",
       "    </tr>\n",
       "    <tr>\n",
       "      <th>1</th>\n",
       "      <td>1002</td>\n",
       "      <td>Sarah Lee</td>\n",
       "      <td>Headphones</td>\n",
       "      <td>Electronics</td>\n",
       "      <td>2</td>\n",
       "      <td>150.0</td>\n",
       "      <td>2024-06-03</td>\n",
       "      <td>No</td>\n",
       "      <td>Canada</td>\n",
       "    </tr>\n",
       "    <tr>\n",
       "      <th>2</th>\n",
       "      <td>1003</td>\n",
       "      <td>Ali Khan</td>\n",
       "      <td>Office Chair</td>\n",
       "      <td>Furniture</td>\n",
       "      <td>1</td>\n",
       "      <td>300.0</td>\n",
       "      <td>2024-06-04</td>\n",
       "      <td>Yes</td>\n",
       "      <td>UAE</td>\n",
       "    </tr>\n",
       "    <tr>\n",
       "      <th>3</th>\n",
       "      <td>1004</td>\n",
       "      <td>Alice Wong</td>\n",
       "      <td>Desk Lamp</td>\n",
       "      <td>Furniture</td>\n",
       "      <td>3</td>\n",
       "      <td>45.0</td>\n",
       "      <td>2024-06-05</td>\n",
       "      <td>Yes</td>\n",
       "      <td>Singapore</td>\n",
       "    </tr>\n",
       "    <tr>\n",
       "      <th>4</th>\n",
       "      <td>1005</td>\n",
       "      <td>Carlos Mendez</td>\n",
       "      <td>Keyboard</td>\n",
       "      <td>Electronics</td>\n",
       "      <td>2</td>\n",
       "      <td>80.0</td>\n",
       "      <td>2024-06-06</td>\n",
       "      <td>No</td>\n",
       "      <td>Mexico</td>\n",
       "    </tr>\n",
       "  </tbody>\n",
       "</table>\n",
       "</div>"
      ],
      "text/plain": [
       "   OrderID   CustomerName       Product     Category  Quantity   Price  \\\n",
       "0     1001     John Smith        Laptop  Electronics         1  1200.0   \n",
       "1     1002      Sarah Lee    Headphones  Electronics         2   150.0   \n",
       "2     1003       Ali Khan  Office Chair    Furniture         1   300.0   \n",
       "3     1004     Alice Wong     Desk Lamp    Furniture         3    45.0   \n",
       "4     1005  Carlos Mendez      Keyboard  Electronics         2    80.0   \n",
       "\n",
       "    OrderDate Shipped    Country  \n",
       "0  2024-06-01     Yes        USA  \n",
       "1  2024-06-03      No     Canada  \n",
       "2  2024-06-04     Yes        UAE  \n",
       "3  2024-06-05     Yes  Singapore  \n",
       "4  2024-06-06      No     Mexico  "
      ]
     },
     "execution_count": 5,
     "metadata": {},
     "output_type": "execute_result"
    }
   ],
   "source": [
    "df.head()"
   ]
  },
  {
   "cell_type": "code",
   "execution_count": 6,
   "id": "dbb151e6",
   "metadata": {},
   "outputs": [
    {
     "data": {
      "text/html": [
       "<div>\n",
       "<style scoped>\n",
       "    .dataframe tbody tr th:only-of-type {\n",
       "        vertical-align: middle;\n",
       "    }\n",
       "\n",
       "    .dataframe tbody tr th {\n",
       "        vertical-align: top;\n",
       "    }\n",
       "\n",
       "    .dataframe thead th {\n",
       "        text-align: right;\n",
       "    }\n",
       "</style>\n",
       "<table border=\"1\" class=\"dataframe\">\n",
       "  <thead>\n",
       "    <tr style=\"text-align: right;\">\n",
       "      <th></th>\n",
       "      <th>OrderID</th>\n",
       "      <th>CustomerName</th>\n",
       "      <th>Product</th>\n",
       "      <th>Category</th>\n",
       "      <th>Quantity</th>\n",
       "      <th>Price</th>\n",
       "      <th>OrderDate</th>\n",
       "      <th>Shipped</th>\n",
       "      <th>Country</th>\n",
       "    </tr>\n",
       "  </thead>\n",
       "  <tbody>\n",
       "    <tr>\n",
       "      <th>35</th>\n",
       "      <td>1036</td>\n",
       "      <td>Emma Thompson</td>\n",
       "      <td>Desk Lamp with USB</td>\n",
       "      <td>Furniture</td>\n",
       "      <td>1</td>\n",
       "      <td>68.0</td>\n",
       "      <td>2024-07-07</td>\n",
       "      <td>No</td>\n",
       "      <td>UK</td>\n",
       "    </tr>\n",
       "    <tr>\n",
       "      <th>36</th>\n",
       "      <td>1037</td>\n",
       "      <td>Carlos Santos</td>\n",
       "      <td>Wireless Earbuds</td>\n",
       "      <td>Electronics</td>\n",
       "      <td>1</td>\n",
       "      <td>125.0</td>\n",
       "      <td>2024-07-08</td>\n",
       "      <td>Yes</td>\n",
       "      <td>Portugal</td>\n",
       "    </tr>\n",
       "    <tr>\n",
       "      <th>37</th>\n",
       "      <td>1038</td>\n",
       "      <td>Leila Mansouri</td>\n",
       "      <td>Desk Pad</td>\n",
       "      <td>Furniture</td>\n",
       "      <td>1</td>\n",
       "      <td>28.0</td>\n",
       "      <td>2024-07-09</td>\n",
       "      <td>Yes</td>\n",
       "      <td>Iran</td>\n",
       "    </tr>\n",
       "    <tr>\n",
       "      <th>38</th>\n",
       "      <td>1039</td>\n",
       "      <td>Daniel Kim</td>\n",
       "      <td>Power Strip</td>\n",
       "      <td>Electronics</td>\n",
       "      <td>2</td>\n",
       "      <td>18.0</td>\n",
       "      <td>2024-07-10</td>\n",
       "      <td>No</td>\n",
       "      <td>South Korea</td>\n",
       "    </tr>\n",
       "    <tr>\n",
       "      <th>39</th>\n",
       "      <td>1040</td>\n",
       "      <td>Anna Ivanova</td>\n",
       "      <td>Desk Clock</td>\n",
       "      <td>Furniture</td>\n",
       "      <td>1</td>\n",
       "      <td>35.0</td>\n",
       "      <td>2024-07-11</td>\n",
       "      <td>Yes</td>\n",
       "      <td>Ukraine</td>\n",
       "    </tr>\n",
       "  </tbody>\n",
       "</table>\n",
       "</div>"
      ],
      "text/plain": [
       "    OrderID    CustomerName             Product     Category  Quantity  Price  \\\n",
       "35     1036   Emma Thompson  Desk Lamp with USB    Furniture         1   68.0   \n",
       "36     1037   Carlos Santos    Wireless Earbuds  Electronics         1  125.0   \n",
       "37     1038  Leila Mansouri            Desk Pad    Furniture         1   28.0   \n",
       "38     1039      Daniel Kim         Power Strip  Electronics         2   18.0   \n",
       "39     1040    Anna Ivanova          Desk Clock    Furniture         1   35.0   \n",
       "\n",
       "     OrderDate Shipped      Country  \n",
       "35  2024-07-07      No           UK  \n",
       "36  2024-07-08     Yes     Portugal  \n",
       "37  2024-07-09     Yes         Iran  \n",
       "38  2024-07-10      No  South Korea  \n",
       "39  2024-07-11     Yes      Ukraine  "
      ]
     },
     "execution_count": 6,
     "metadata": {},
     "output_type": "execute_result"
    }
   ],
   "source": [
    "df.tail()"
   ]
  },
  {
   "cell_type": "code",
   "execution_count": 7,
   "id": "0d17bcf2",
   "metadata": {},
   "outputs": [
    {
     "name": "stdout",
     "output_type": "stream",
     "text": [
      "<class 'pandas.core.frame.DataFrame'>\n",
      "RangeIndex: 40 entries, 0 to 39\n",
      "Data columns (total 9 columns):\n",
      " #   Column        Non-Null Count  Dtype  \n",
      "---  ------        --------------  -----  \n",
      " 0   OrderID       40 non-null     int64  \n",
      " 1   CustomerName  40 non-null     object \n",
      " 2   Product       40 non-null     object \n",
      " 3   Category      40 non-null     object \n",
      " 4   Quantity      40 non-null     int64  \n",
      " 5   Price         40 non-null     float64\n",
      " 6   OrderDate     40 non-null     object \n",
      " 7   Shipped       40 non-null     object \n",
      " 8   Country       40 non-null     object \n",
      "dtypes: float64(1), int64(2), object(6)\n",
      "memory usage: 2.9+ KB\n"
     ]
    }
   ],
   "source": [
    "df.info()"
   ]
  },
  {
   "cell_type": "code",
   "execution_count": 8,
   "id": "edae6929",
   "metadata": {},
   "outputs": [
    {
     "data": {
      "text/html": [
       "<div>\n",
       "<style scoped>\n",
       "    .dataframe tbody tr th:only-of-type {\n",
       "        vertical-align: middle;\n",
       "    }\n",
       "\n",
       "    .dataframe tbody tr th {\n",
       "        vertical-align: top;\n",
       "    }\n",
       "\n",
       "    .dataframe thead th {\n",
       "        text-align: right;\n",
       "    }\n",
       "</style>\n",
       "<table border=\"1\" class=\"dataframe\">\n",
       "  <thead>\n",
       "    <tr style=\"text-align: right;\">\n",
       "      <th></th>\n",
       "      <th>OrderID</th>\n",
       "      <th>Quantity</th>\n",
       "      <th>Price</th>\n",
       "    </tr>\n",
       "  </thead>\n",
       "  <tbody>\n",
       "    <tr>\n",
       "      <th>count</th>\n",
       "      <td>40.000000</td>\n",
       "      <td>40.000000</td>\n",
       "      <td>40.000000</td>\n",
       "    </tr>\n",
       "    <tr>\n",
       "      <th>mean</th>\n",
       "      <td>1020.500000</td>\n",
       "      <td>5.450000</td>\n",
       "      <td>106.457500</td>\n",
       "    </tr>\n",
       "    <tr>\n",
       "      <th>std</th>\n",
       "      <td>11.690452</td>\n",
       "      <td>15.903475</td>\n",
       "      <td>201.091854</td>\n",
       "    </tr>\n",
       "    <tr>\n",
       "      <th>min</th>\n",
       "      <td>1001.000000</td>\n",
       "      <td>1.000000</td>\n",
       "      <td>0.800000</td>\n",
       "    </tr>\n",
       "    <tr>\n",
       "      <th>25%</th>\n",
       "      <td>1010.750000</td>\n",
       "      <td>1.000000</td>\n",
       "      <td>18.000000</td>\n",
       "    </tr>\n",
       "    <tr>\n",
       "      <th>50%</th>\n",
       "      <td>1020.500000</td>\n",
       "      <td>1.000000</td>\n",
       "      <td>43.500000</td>\n",
       "    </tr>\n",
       "    <tr>\n",
       "      <th>75%</th>\n",
       "      <td>1030.250000</td>\n",
       "      <td>2.250000</td>\n",
       "      <td>112.500000</td>\n",
       "    </tr>\n",
       "    <tr>\n",
       "      <th>max</th>\n",
       "      <td>1040.000000</td>\n",
       "      <td>100.000000</td>\n",
       "      <td>1200.000000</td>\n",
       "    </tr>\n",
       "  </tbody>\n",
       "</table>\n",
       "</div>"
      ],
      "text/plain": [
       "           OrderID    Quantity        Price\n",
       "count    40.000000   40.000000    40.000000\n",
       "mean   1020.500000    5.450000   106.457500\n",
       "std      11.690452   15.903475   201.091854\n",
       "min    1001.000000    1.000000     0.800000\n",
       "25%    1010.750000    1.000000    18.000000\n",
       "50%    1020.500000    1.000000    43.500000\n",
       "75%    1030.250000    2.250000   112.500000\n",
       "max    1040.000000  100.000000  1200.000000"
      ]
     },
     "execution_count": 8,
     "metadata": {},
     "output_type": "execute_result"
    }
   ],
   "source": [
    "df.describe()"
   ]
  },
  {
   "cell_type": "code",
   "execution_count": 9,
   "id": "1c2cbecd",
   "metadata": {},
   "outputs": [
    {
     "data": {
      "text/plain": [
       "Index(['OrderID', 'CustomerName', 'Product', 'Category', 'Quantity', 'Price',\n",
       "       'OrderDate', 'Shipped', 'Country'],\n",
       "      dtype='object')"
      ]
     },
     "execution_count": 9,
     "metadata": {},
     "output_type": "execute_result"
    }
   ],
   "source": [
    "df.columns"
   ]
  },
  {
   "cell_type": "code",
   "execution_count": 10,
   "id": "261d322c",
   "metadata": {},
   "outputs": [
    {
     "data": {
      "text/plain": [
       "RangeIndex(start=0, stop=40, step=1)"
      ]
     },
     "execution_count": 10,
     "metadata": {},
     "output_type": "execute_result"
    }
   ],
   "source": [
    "df.index"
   ]
  },
  {
   "cell_type": "code",
   "execution_count": 14,
   "id": "171ec415",
   "metadata": {},
   "outputs": [
    {
     "data": {
      "text/html": [
       "<div>\n",
       "<style scoped>\n",
       "    .dataframe tbody tr th:only-of-type {\n",
       "        vertical-align: middle;\n",
       "    }\n",
       "\n",
       "    .dataframe tbody tr th {\n",
       "        vertical-align: top;\n",
       "    }\n",
       "\n",
       "    .dataframe thead th {\n",
       "        text-align: right;\n",
       "    }\n",
       "</style>\n",
       "<table border=\"1\" class=\"dataframe\">\n",
       "  <thead>\n",
       "    <tr style=\"text-align: right;\">\n",
       "      <th></th>\n",
       "      <th>Country</th>\n",
       "      <th>Product</th>\n",
       "    </tr>\n",
       "  </thead>\n",
       "  <tbody>\n",
       "    <tr>\n",
       "      <th>0</th>\n",
       "      <td>USA</td>\n",
       "      <td>Laptop</td>\n",
       "    </tr>\n",
       "    <tr>\n",
       "      <th>1</th>\n",
       "      <td>Canada</td>\n",
       "      <td>Headphones</td>\n",
       "    </tr>\n",
       "    <tr>\n",
       "      <th>2</th>\n",
       "      <td>UAE</td>\n",
       "      <td>Office Chair</td>\n",
       "    </tr>\n",
       "    <tr>\n",
       "      <th>3</th>\n",
       "      <td>Singapore</td>\n",
       "      <td>Desk Lamp</td>\n",
       "    </tr>\n",
       "    <tr>\n",
       "      <th>4</th>\n",
       "      <td>Mexico</td>\n",
       "      <td>Keyboard</td>\n",
       "    </tr>\n",
       "  </tbody>\n",
       "</table>\n",
       "</div>"
      ],
      "text/plain": [
       "     Country       Product\n",
       "0        USA        Laptop\n",
       "1     Canada    Headphones\n",
       "2        UAE  Office Chair\n",
       "3  Singapore     Desk Lamp\n",
       "4     Mexico      Keyboard"
      ]
     },
     "execution_count": 14,
     "metadata": {},
     "output_type": "execute_result"
    }
   ],
   "source": [
    "df[['Country','Product']].head()"
   ]
  },
  {
   "cell_type": "code",
   "execution_count": 19,
   "id": "2646d780",
   "metadata": {},
   "outputs": [
    {
     "data": {
      "text/plain": [
       "OrderID                1002\n",
       "CustomerName      Sarah Lee\n",
       "Product          Headphones\n",
       "Category        Electronics\n",
       "Quantity                  2\n",
       "Price                 150.0\n",
       "OrderDate        2024-06-03\n",
       "Shipped                  No\n",
       "Country              Canada\n",
       "Name: 1, dtype: object"
      ]
     },
     "execution_count": 19,
     "metadata": {},
     "output_type": "execute_result"
    }
   ],
   "source": [
    "df.iloc[1]"
   ]
  },
  {
   "cell_type": "code",
   "execution_count": 21,
   "id": "eeddec70",
   "metadata": {},
   "outputs": [
    {
     "data": {
      "text/plain": [
       "OrderID                1002\n",
       "CustomerName      Sarah Lee\n",
       "Product          Headphones\n",
       "Category        Electronics\n",
       "Quantity                  2\n",
       "Price                 150.0\n",
       "OrderDate        2024-06-03\n",
       "Shipped                  No\n",
       "Country              Canada\n",
       "Name: 1, dtype: object"
      ]
     },
     "execution_count": 21,
     "metadata": {},
     "output_type": "execute_result"
    }
   ],
   "source": [
    "df.loc[1]"
   ]
  }
 ],
 "metadata": {
  "kernelspec": {
   "display_name": "venv",
   "language": "python",
   "name": "python3"
  },
  "language_info": {
   "codemirror_mode": {
    "name": "ipython",
    "version": 3
   },
   "file_extension": ".py",
   "mimetype": "text/x-python",
   "name": "python",
   "nbconvert_exporter": "python",
   "pygments_lexer": "ipython3",
   "version": "3.12.3"
  }
 },
 "nbformat": 4,
 "nbformat_minor": 5
}
